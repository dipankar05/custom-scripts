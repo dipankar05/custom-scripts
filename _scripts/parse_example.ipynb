{
 "cells": [
  {
   "cell_type": "code",
   "execution_count": 1,
   "metadata": {},
   "outputs": [],
   "source": [
    "from pathlib import Path\n",
    "import re\n",
    "import yaml\n",
    "from urllib.parse import urlparse, parse_qs, urlencode\n",
    "\n",
    "import requests"
   ]
  },
  {
   "cell_type": "code",
   "execution_count": 74,
   "metadata": {},
   "outputs": [],
   "source": [
    "index_path = \"../modis/indexdb/README.md\"\n",
    "with open(index_path, \"r\") as fp:\n",
    "    indices = fp.read()"
   ]
  },
  {
   "cell_type": "code",
   "execution_count": 75,
   "metadata": {},
   "outputs": [],
   "source": [
    "example_links = re.findall(\"(?<=\\[Playground\\]\\()(.*?)(?=\\))\", indices)"
   ]
  },
  {
   "cell_type": "code",
   "execution_count": 76,
   "metadata": {},
   "outputs": [],
   "source": [
    "def to_sh(url):\n",
    "    parts = urlparse(url)\n",
    "    old_query = parse_qs(parts.query)\n",
    "    query = {'datasetId': ['AWS_LOTL2'],\n",
    "    'lat': ['42.86691'],\n",
    "    'lng': ['10.78033'],\n",
    "    'zoom': ['11'],\n",
    "    'fromTime': ['2020-07-05T00:00:00.000Z'],\n",
    "    'toTime': ['2020-07-05T23:59:59.999Z'],\n",
    "    'evalscripturl': old_query[\"evalscripturl\"]}\n",
    "    new_path = parts._replace(netloc=\"apps.sentinel-hub.com\", path=\"/eo-browser/\", query=urlencode(query, doseq=True), fragment=\"custom-script\")\n",
    "    return new_path.geturl()"
   ]
  },
  {
   "cell_type": "code",
   "execution_count": 77,
   "metadata": {},
   "outputs": [],
   "source": [
    "def modis_to_sh(url):\n",
    "    parts = urlparse(url)\n",
    "    old_query = parse_qs(parts.query)\n",
    "    query = {'datasetId': ['MODIS'],\n",
    "    'lat': ['42.86691'],\n",
    "    'lng': ['10.78033'],\n",
    "    'zoom': ['8'],\n",
    "    'fromTime': ['2020-07-05T00:00:00.000Z'],\n",
    "    'toTime': ['2020-07-05T23:59:59.999Z'],\n",
    "    'evalscripturl': old_query[\"evalscripturl\"]}\n",
    "    new_path = parts._replace(netloc=\"apps.sentinel-hub.com\", path=\"/eo-browser/\", query=urlencode(query, doseq=True), fragment=\"custom-script\")\n",
    "    return new_path.geturl()"
   ]
  },
  {
   "cell_type": "code",
   "execution_count": 78,
   "metadata": {},
   "outputs": [],
   "source": [
    "for url in example_links:\n",
    "    indices = indices.replace(url, modis_to_sh(url))\n",
    "    \n",
    "indices = indices.replace(\"Playground\", \"EO Browser\")\n",
    "with open(index_path, \"w\") as fs:\n",
    "    fs.write(indices)"
   ]
  },
  {
   "cell_type": "code",
   "execution_count": 2,
   "metadata": {},
   "outputs": [],
   "source": [
    "from dataclasses import dataclass, asdict\n",
    "from typing import Optional\n",
    "\n",
    "@dataclass\n",
    "class ExampleDefinition:\n",
    "    zoom: int\n",
    "    lat: float\n",
    "    lng: float\n",
    "    datasetId: str # one of [\"S2L2A\", \"S2L1C\"]\n",
    "    fromTime: str\n",
    "    toTime: str\n",
    "    platform: list\n",
    "    evalscripturl: Optional[str] = None\n",
    "    evalscript: Optional[str] = None\n",
    "    name: Optional[str] = None\n",
    "    additionalQueryParams: Optional[list] = None\n",
    "\n",
    "    def dict(self):\n",
    "        return {k: v for k, v in asdict(self).items() if v}"
   ]
  },
  {
   "cell_type": "code",
   "execution_count": 3,
   "metadata": {},
   "outputs": [],
   "source": [
    "cdse_lookup = {\n",
    "    \"S2_L2A_CDAS\": \"S2L2A\",\n",
    "    \"S2_L1C_CDAS\": \"S2L1C\",\n",
    "    \"S1_CDAS_IW_VVVH\": \"S1_AWS_IW_VVVH\",\n",
    "    \"S3SLSTR_CDAS\": \"S3SLSTR\",\n",
    "    \"S3OLCI_CDAS\": \"S3OLCI\",\n",
    "    \"S5_AER_AI_CDAS\": \"S5_AER_AI\",\n",
    "    \"S5_CH4_CDAS\": \"S5_CH4\",\n",
    "    \"S5_NO2_CDAS\": \"S5_NO2\",\n",
    "    \"S5_CLOUD_CDAS\": \"S5_CLOUD\",\n",
    "    \"S5_CO_CDAS\": \"S5_CO\",\n",
    "    \"S5_HCHO_CDAS\": \"S5_HCHO\",\n",
    "    \"S5_O3_CDAS\": \"S5_O3\",\n",
    "    \"S5_SO2_CDAS\": \"S5_SO2\"\n",
    "}\n",
    "\n",
    "playground_lookup = {\n",
    "    \"S2\": \"S2L2A\",\n",
    "    \"S2L2A\": \"S2L2A\",\n",
    "    \"S1_AWS_IW_VVVH\": \"S1_AWS_IW_VVVH\",\n",
    "    \"S1-AWS-IW-VVVH\": \"S1_AWS_IW_VVVH\"\n",
    "}\n",
    "\n",
    "datasource_lookup = {\n",
    "    \"Sentinel-2 L1C\": \"S2L1C\",\n",
    "    \"Sentinel-1 L2A\": \"S2L2A\",\n",
    "    \"Sentinel-1 AWS (S1-AWS-IW-VVVH)\": \"S1_AWS_IW_VVVH\"\n",
    "}"
   ]
  },
  {
   "cell_type": "code",
   "execution_count": 4,
   "metadata": {},
   "outputs": [],
   "source": [
    "def get_urls_to_convert(urls):\n",
    "    # 1. Ignore playground if there's other links\n",
    "    # Check how many links contain sentinel-playground\n",
    "    non_playground = [url for url in urls if \"sentinel-playground\" not in url]\n",
    "    if len(non_playground):\n",
    "        urls = non_playground\n",
    "    return urls\n",
    "        \n",
    "def resolve_redirect(url):\n",
    "    r = requests.get(url) \n",
    "    return r.url\n",
    "\n",
    "def parse_url(url):\n",
    "    try:\n",
    "        # Find which service it is\n",
    "        if \"sentinelshare.page.link\" in url:\n",
    "            url = resolve_redirect(url)\n",
    "            return parse_sh(url)\n",
    "        if \"link.dataspace.copernicus.eu\" in url:\n",
    "            url = resolve_redirect(url)\n",
    "            return parse_cdse(url)\n",
    "        if \"sentinel-playground\" in url:\n",
    "            return parse_playground(url)\n",
    "        if \"apps.sentinel-hub.com/eo-browser\" in url:\n",
    "            return parse_sh(url)\n",
    "        if \"dataspace.copernicus.eu/browser\" in url:\n",
    "            return parse_cdse(url)\n",
    "    except BaseException as e:\n",
    "        print(url)\n",
    "        raise e\n",
    "\n",
    "def parse_sh(url):\n",
    "    parts = urlparse(url)\n",
    "    query = parse_qs(parts.query)\n",
    "    unnecessary = [\"demSource3D\", \"themeId\", \"visualizationUrl\"]\n",
    "    [query.pop(to_del, None) for to_del in unnecessary]\n",
    "    datasource = datasource_lookup.get(query.pop(\"datasource\", [None])[0], None)\n",
    "    return ExampleDefinition(\n",
    "        zoom = query.pop(\"zoom\", [\"10\"])[0],\n",
    "        lat = query.pop(\"lat\")[0],\n",
    "        lng = query.pop(\"lng\")[0],\n",
    "        evalscripturl = query.pop(\"evalscripturl\", [None])[0],\n",
    "        evalscript = query.pop(\"evalscript\", [None])[0],\n",
    "        datasetId = query.pop(\"datasetId\", [datasource])[0],\n",
    "        fromTime = query.pop(\"fromTime\", query.get(\"time\"))[0],\n",
    "        toTime = query.pop(\"toTime\", query.pop(\"time\", None))[0],\n",
    "        additionalQueryParams=[[k,v[0]] for k,v in query.items()],\n",
    "        platform = [\"CDSE\", \"EOB\"]\n",
    "    )\n",
    "\n",
    "def parse_playground(url):\n",
    "    parts = urlparse(url)\n",
    "    query = parse_qs(parts.query)\n",
    "    unnecessary = [\"preset\", \"layers\", \"gain\", \"gamma\", \"atmFilter\", \"showDates\", \"temporal\"]\n",
    "    [query.pop(to_del, None) for to_del in unnecessary]\n",
    "    dataset = playground_lookup[query.pop(\"source\", [\"S2L2A\"])[0]]\n",
    "    fromTime, toTime = query.pop(\"time\", [\"2023-07-01|2023-08-01\"])[0].split(\"|\")\n",
    "    return ExampleDefinition(\n",
    "        zoom = query.pop(\"zoom\", [\"10\"])[0],\n",
    "        lat = query.pop(\"lat\")[0],\n",
    "        lng = query.pop(\"lng\")[0],\n",
    "        evalscripturl = query.pop(\"evalscripturl\", [None])[0],\n",
    "        evalscript = query.pop(\"evalscript\", [None])[0],\n",
    "        datasetId = dataset,\n",
    "        fromTime = fromTime,\n",
    "        toTime = toTime,\n",
    "        additionalQueryParams=[[k,v[0]] for k,v in query.items()],\n",
    "        platform = [\"CDSE\", \"EOB\"]\n",
    "    )\n",
    "\n",
    "def parse_cdse(url):\n",
    "    parts = urlparse(url)\n",
    "    query = parse_qs(parts.query)\n",
    "    unnecessary = [\"demSource3D\", \"themeId\", \"visualizationUrl\", \"dateMode\"]\n",
    "    [query.pop(to_del, None) for to_del in unnecessary]\n",
    "    dataset = cdse_lookup[query.pop(\"datasetId\")[0]]\n",
    "    return ExampleDefinition(\n",
    "        zoom = query.pop(\"zoom\")[0],\n",
    "        lat = query.pop(\"lat\")[0],\n",
    "        lng = query.pop(\"lng\")[0],\n",
    "        evalscripturl = query.pop(\"evalscripturl\", [None])[0],\n",
    "        evalscript = query.pop(\"evalscript\", [None])[0],\n",
    "        datasetId = dataset,\n",
    "        fromTime = query.pop(\"fromTime\")[0],\n",
    "        toTime = query.pop(\"toTime\")[0],\n",
    "        additionalQueryParams=[[k,v[0]] for k,v in query.items()],\n",
    "        platform = [\"CDSE\", \"EOB\"]\n",
    "    )\n",
    "\n",
    "def split_frontmatter_content(content):\n",
    "    fm_split = content.split(\"---\\n\", 3)\n",
    "    front_matter = yaml.safe_load(fm_split[1])\n",
    "    content = fm_split[-1]\n",
    "    return front_matter, content"
   ]
  },
  {
   "cell_type": "code",
   "execution_count": 5,
   "metadata": {},
   "outputs": [],
   "source": [
    "too_many = []\n",
    "\n",
    "def parse_example(path):\n",
    "    with open(path, 'r') as original: \n",
    "        fm, content = split_frontmatter_content(original.read())\n",
    "\n",
    "    start_examples = content.find(\"## Evaluate\")\n",
    "    if start_examples == -1:\n",
    "        return -1\n",
    "    examples, remaining_content = content[start_examples+2:].split(\"##\", 1)\n",
    "    urls = re.findall(\"(?<=\\()(.*?)(?=\\))\", examples)\n",
    "    to_convert = get_urls_to_convert(urls)\n",
    "    if len(to_convert) > 2 or len(to_convert) == 0:\n",
    "        return len(to_convert)\n",
    "    try:\n",
    "        example = parse_url(urls[0]).dict()\n",
    "    except BaseException as e:\n",
    "        print(path)\n",
    "        raise e\n",
    "    fm[\"examples\"] = [example]\n",
    "    new_fm = yaml.dump(fm, sort_keys=False)\n",
    "    new_content = \"---\\n\"+ new_fm + \"---\" + content[:start_examples] + \"##\" + remaining_content\n",
    "\n",
    "    with open(path, \"w\") as fs:\n",
    "        fs.write(new_content)\n"
   ]
  },
  {
   "cell_type": "code",
   "execution_count": 7,
   "metadata": {},
   "outputs": [],
   "source": [
    "readmeas = list(Path(\"../slstr/\").rglob(\"*.md\"))"
   ]
  },
  {
   "cell_type": "code",
   "execution_count": 8,
   "metadata": {},
   "outputs": [],
   "source": [
    "output = [parse_example(readme) for readme in readmeas]"
   ]
  },
  {
   "cell_type": "code",
   "execution_count": 174,
   "metadata": {},
   "outputs": [
    {
     "data": {
      "text/plain": [
       "{'zoom': ['10'],\n",
       " 'lat': ['42.76703'],\n",
       " 'lng': ['11.22847'],\n",
       " 'evalscript': ['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'],\n",
       " 'datasetId': ['S2L2A'],\n",
       " 'fromTime': ['2020-07-12T00:00:00.000Z'],\n",
       " 'toTime': ['2020-07-12T23:59:59.999Z']}"
      ]
     },
     "execution_count": 174,
     "metadata": {},
     "output_type": "execute_result"
    }
   ],
   "source": [
    "# EOB provided with evalscript directly, single date\n",
    "eob_eval = \"https://apps.sentinel-hub.com/eo-browser/?zoom=10&lat=42.76703&lng=11.22847&themeId=DEFAULT-THEME&visualizationUrl=https://services.sentinel-hub.com/ogc/wms/bd86bcc0-f318-402b-a145-015f85b9427e&evalscript=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%3D&datasetId=S2L2A&fromTime=2020-07-12T00:00:00.000Z&toTime=2020-07-12T23:59:59.999Z&demSource3D=%22MAPZEN%22#custom-script\"\n",
    "parts = urlparse(eob_eval)\n",
    "query = parse_qs(parts.query)\n",
    "del query[\"demSource3D\"]\n",
    "del query[\"themeId\"]\n",
    "del query[\"visualizationUrl\"]\n",
    "query"
   ]
  },
  {
   "cell_type": "code",
   "execution_count": null,
   "metadata": {},
   "outputs": [],
   "source": []
  },
  {
   "cell_type": "code",
   "execution_count": 119,
   "metadata": {},
   "outputs": [
    {
     "data": {
      "text/plain": [
       "{'zoom': '10',\n",
       " 'lat': '42.76703',\n",
       " 'lng': '11.22847',\n",
       " 'datasetId': 'S2L2A',\n",
       " 'fromTime': '2020-07-12T00:00:00.000Z',\n",
       " 'toTime': '2020-07-12T23:59:59.999Z',\n",
       " 'platform': ['CDSE', 'EOB'],\n",
       " 'evalscript': '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'}"
      ]
     },
     "execution_count": 119,
     "metadata": {},
     "output_type": "execute_result"
    }
   ],
   "source": [
    "parse_sh(eob_eval).dict()"
   ]
  },
  {
   "cell_type": "code",
   "execution_count": 175,
   "metadata": {},
   "outputs": [],
   "source": [
    "parts = urlparse(url)\n",
    "query = parse_qs(parts.query)\n",
    "build_url = parts._replace(query=urlencode(query, doseq=True)).geturl()"
   ]
  },
  {
   "cell_type": "code",
   "execution_count": 176,
   "metadata": {},
   "outputs": [
    {
     "data": {
      "text/plain": [
       "'https://apps.sentinel-hub.com/eo-browser/?zoom=10&lat=42.76703&lng=11.22847&evalscript=Ly9WRVJTSU9OPTMKZnVuY3Rpb24gc2V0dXAoKSB7CiAgICByZXR1cm4gewogICAgICAgIGlucHV0OiBbIkIwMyIsICJCMDQiLCAiQjA4IiwgImRhdGFNYXNrIl0sCiAgICAgICAgb3V0cHV0OiBbCiAgICAgICAgICAgIHsgaWQ6ICJkZWZhdWx0IiwgYmFuZHM6IDQgfSwKICAgICAgICAgICAgeyBpZDogImluZGV4IiwgYmFuZHM6IDEsIHNhbXBsZVR5cGU6ICJGTE9BVDMyIiB9LAogICAgICAgICAgICB7IGlkOiAiZW9icm93c2VyU3RhdHMiLCBiYW5kczogMiwgc2FtcGxlVHlwZTogJ0ZMT0FUMzInIH0sCiAgICAgICAgICAgIHsgaWQ6ICJkYXRhTWFzayIsIGJhbmRzOiAxIH0KICAgICAgICBdCiAgICB9Owp9Cgpjb25zdCByYW1wID0gWwogICAgWy0wLjUsIDB4MGMwYzBjXSwKICAgIFstMC4yLCAweGJmYmZiZl0sCiAgICBbLTAuMSwgMHhkYmRiZGJdLAogICAgWzAsIDB4ZWFlYWVhXSwKICAgIFswLjAyNSwgMHhmZmY5Y2NdLAogICAgWzAuMDUsIDB4ZWRlOGI1XSwKICAgIFswLjA3NSwgMHhkZGQ4OWJdLAogICAgWzAuMSwgMHhjY2M2ODJdLAogICAgWzAuMTI1LCAweGJjYjc2Yl0sCiAgICBbMC4xNSwgMHhhZmMxNjBdLAogICAgWzAuMTc1LCAweGEzY2M1OV0sCiAgICBbMC4yLCAweDkxYmY1MV0sCiAgICBbMC4yNSwgMHg3ZmIyNDddLAogICAgWzAuMywgMHg3MGEzM2ZdLAogICAgWzAuMzUsIDB4NjA5NjM1XSwKICAgIFswLjQsIDB4NGY4OTJkXSwKICAgIFswLjQ1LCAweDNmN2MyM10sCiAgICBbMC41LCAweDMwNmQxY10sCiAgICBbMC41NSwgMHgyMTYwMTFdLAogICAgWzAuNiwgMHgwZjU0MGFdLAogICAgWzEsIDB4MDA0NDAwXSwKXTsKCmNvbnN0IHZpc3VhbGl6ZXIgPSBuZXcgQ29sb3JSYW1wVmlzdWFsaXplcihyYW1wKTsKCmZ1bmN0aW9uIGV2YWx1YXRlUGl4ZWwoc2FtcGxlcykgewogICAgbGV0IHZhbCA9IGluZGV4KHNhbXBsZXMuQjA4LCBzYW1wbGVzLkIwNCk7CiAgICAvLyBUaGUgbGlicmFyeSBmb3IgdGlmZnMgd29ya3Mgd2VsbCBvbmx5IGlmIHRoZXJlIGlzIG9ubHkgb25lIGNoYW5uZWwgcmV0dXJuZWQuCiAgICAvLyBTbyB3ZSBlbmNvZGUgdGhlICJubyBkYXRhIiBhcyBOYU4gaGVyZSBhbmQgaWdub3JlIE5hTnMgb24gZnJvbnRlbmQuCgogICAgLy8gVE9ETzogQ0hFQ0sgSUYgVEhJUyBpbmRleFZhbCBJUyBTVElMTCBORUNFU1NBUlkKICAgIGNvbnN0IGluZGV4VmFsID0gc2FtcGxlcy5kYXRhTWFzayA9PT0gMSA%2FIHZhbCA6IE5hTjsKICAgIGNvbnN0IGltZ1ZhbHMgPSB2aXN1YWxpemVyLnByb2Nlc3ModmFsKTsKCiAgICByZXR1cm4gewogICAgICAgIGRlZmF1bHQ6IGltZ1ZhbHMuY29uY2F0KHNhbXBsZXMuZGF0YU1hc2spLAogICAgICAgIGluZGV4OiBbaW5kZXhWYWxdLAogICAgICAgIGVvYnJvd3NlclN0YXRzOiBbdmFsLCBpc0Nsb3VkKHNhbXBsZXMpID8gMSA6IDBdLAogICAgICAgIGRhdGFNYXNrOiBbc2FtcGxlcy5kYXRhTWFza10KICAgIH07Cn0KCmZ1bmN0aW9uIGlzQ2xvdWQoc2FtcGxlcykgewogICAgY29uc3QgTkdEUiA9IGluZGV4KHNhbXBsZXMuQjAzLCBzYW1wbGVzLkIwNCk7CiAgICBjb25zdCBiUmF0aW8gPSAoc2FtcGxlcy5CMDMgLSAwLjE3NSkgLyAoMC4zOSAtIDAuMTc1KTsKICAgIHJldHVybiBiUmF0aW8gPiAxIHx8IChiUmF0aW8gPiAwICYmIE5HRFIgPiAwKTsKfQo%3D&datasetId=S2L2A&fromTime=2020-07-12T00%3A00%3A00.000Z&toTime=2020-07-12T23%3A59%3A59.999Z#custom-script'"
      ]
     },
     "execution_count": 176,
     "metadata": {},
     "output_type": "execute_result"
    }
   ],
   "source": [
    "build_url"
   ]
  }
 ],
 "metadata": {
  "kernelspec": {
   "display_name": "sh",
   "language": "python",
   "name": "python3"
  },
  "language_info": {
   "codemirror_mode": {
    "name": "ipython",
    "version": 3
   },
   "file_extension": ".py",
   "mimetype": "text/x-python",
   "name": "python",
   "nbconvert_exporter": "python",
   "pygments_lexer": "ipython3",
   "version": "3.10.8"
  },
  "orig_nbformat": 4
 },
 "nbformat": 4,
 "nbformat_minor": 2
}
